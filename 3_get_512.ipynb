{
 "cells": [
  {
   "cell_type": "code",
   "execution_count": 3,
   "metadata": {},
   "outputs": [],
   "source": [
    "with open('/Users/zl843/Library/CloudStorage/SynologyDrive-macbook/Abroad/Cornell University/Research/BitBucket/translation_start_site/ATG_in_5-UTR.bed', 'r') as input_file, open('./ATG_in_5-UTR.bed.GPN_input', 'w') as output_file:\n",
    "    for line in input_file:\n",
    "        fields = line.strip().split('\\t')\n",
    "        chromosome, start, end, transcript_id, _, strand = fields\n",
    "\n",
    "        if strand == '+':\n",
    "            start = str(int(start) - 255)\n",
    "            end = str(int(start) + 512)\n",
    "        elif strand == '-':\n",
    "            start = str(int(end) - 256)\n",
    "            end = str(int(end) + 256)\n",
    "\n",
    "        new_line = '\\t'.join([chromosome, start, end, transcript_id, '.', strand]) + '\\n'\n",
    "        output_file.write(new_line)\n"
   ]
  },
  {
   "cell_type": "code",
   "execution_count": 4,
   "metadata": {},
   "outputs": [],
   "source": [
    "with open('/Users/zl843/Library/CloudStorage/SynologyDrive-macbook/Abroad/Cornell University/Research/BitBucket/translation_start_site/ATG_out-of-exon.bed', 'r') as input_file, open('./ATG_out-of-exon.bed.GPN_input', 'w') as output_file:\n",
    "    for line in input_file:\n",
    "        fields = line.strip().split('\\t')\n",
    "        chromosome, start, end, transcript_id, _, strand = fields\n",
    "\n",
    "        if strand == '+':\n",
    "            start = str(int(start) - 255)\n",
    "            end = str(int(start) + 512)\n",
    "        elif strand == '-':\n",
    "            start = str(int(end) - 257)\n",
    "            end = str(int(end) + 255)\n",
    "\n",
    "        new_line = '\\t'.join([chromosome, start, end, transcript_id, '.', strand]) + '\\n'\n",
    "        output_file.write(new_line)\n"
   ]
  }
 ],
 "metadata": {
  "kernelspec": {
   "display_name": "protein",
   "language": "python",
   "name": "python3"
  },
  "language_info": {
   "codemirror_mode": {
    "name": "ipython",
    "version": 3
   },
   "file_extension": ".py",
   "mimetype": "text/x-python",
   "name": "python",
   "nbconvert_exporter": "python",
   "pygments_lexer": "ipython3",
   "version": "3.11.5"
  }
 },
 "nbformat": 4,
 "nbformat_minor": 2
}
