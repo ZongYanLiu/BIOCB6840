{
 "cells": [
  {
   "cell_type": "markdown",
   "metadata": {},
   "source": [
    "**Get the bed file that out of exon**"
   ]
  },
  {
   "cell_type": "code",
   "execution_count": 43,
   "metadata": {},
   "outputs": [],
   "source": [
    "def extract_introns_utr(gff_file, output_file):\n",
    "    introns_utr = []\n",
    "\n",
    "    with open(gff_file, 'r') as file:\n",
    "        current_transcript = None\n",
    "        current_exon = None\n",
    "        current_utr = None\n",
    "\n",
    "        for line in file:\n",
    "            if line.startswith('#'):\n",
    "                continue\n",
    "\n",
    "            fields = line.strip().split('\\t')\n",
    "            feature_type = fields[2]\n",
    "            chromosome = fields[0]\n",
    "            strand = fields[6]\n",
    "\n",
    "            attributes = dict(item.split(\"=\") for item in fields[8].split(\";\"))\n",
    "            transcript_id = attributes.get('transcript_id') or attributes.get('ID')\n",
    "\n",
    "            if feature_type == 'mRNA':\n",
    "                current_transcript = transcript_id\n",
    "\n",
    "            if feature_type == 'exon':\n",
    "                exon_start = int(fields[3])\n",
    "                exon_end = int(fields[4])\n",
    "\n",
    "                if current_exon:\n",
    "                    intron_start = current_exon[1] + 1\n",
    "                    intron_end = exon_start - 1\n",
    "                    introns_utr.append((chromosome, intron_start, intron_end, current_transcript, 'intron', strand))\n",
    "\n",
    "                current_exon = (exon_start, exon_end)\n",
    "\n",
    "            if feature_type == 'five_prime_UTR' or feature_type == 'three_prime_UTR':\n",
    "                utr_start = int(fields[3])\n",
    "                utr_end = int(fields[4])\n",
    "\n",
    "                introns_utr.append((chromosome, utr_start, utr_end, current_transcript, feature_type, strand))\n",
    "\n",
    "    with open(output_file, 'w') as output:\n",
    "        #output.write(\"Chromosome\\tStart\\tEnd\\tTranscript\\tFeature\\tStrand\\n\")\n",
    "        for region in introns_utr:\n",
    "            output.write(\"\\t\".join(map(str, region)) + '\\n')\n",
    "\n",
    "# Example usage\n",
    "gff_file_path = '/workdir/zl843/translation-start-site/Arabidopsis_thaliana.TAIR10.57.gff3'\n",
    "output_file_path = '/workdir/zl843/translation-start-site/Arabidopsis_thaliana.TAIR10.57.gff3.intron'\n",
    "extract_introns_utr(gff_file_path, output_file_path)\n"
   ]
  },
  {
   "cell_type": "markdown",
   "metadata": {},
   "source": [
    "**Get the sequence out of the exon**"
   ]
  },
  {
   "cell_type": "code",
   "execution_count": 16,
   "metadata": {},
   "outputs": [
    {
     "name": "stdout",
     "output_type": "stream",
     "text": [
      "Sequences written to /workdir/zl843/translation-start-site/Arabidopsis_thaliana.TAIR10.dna.toplevel.fa.intron\n"
     ]
    }
   ],
   "source": [
    "from Bio import SeqIO\n",
    "from Bio.SeqRecord import SeqRecord\n",
    "from Bio.Seq import Seq\n",
    "from Bio.SeqFeature import FeatureLocation\n",
    "\n",
    "def get_sequence_from_bed(bed_file, genome_fasta, output_fasta):\n",
    "    sequences = []\n",
    "\n",
    "    # Read the genome fasta file\n",
    "    genome_records = SeqIO.to_dict(SeqIO.parse(genome_fasta, \"fasta\"))\n",
    "\n",
    "    # Read the bed file\n",
    "    with open(bed_file, 'r') as bed:\n",
    "        for line in bed:\n",
    "            fields = line.strip().split('\\t')\n",
    "            chromosome = fields[0]\n",
    "            start = int(fields[1])\n",
    "            end = int(fields[2])\n",
    "            gene_id = fields[3]\n",
    "            feature_type = fields[4]\n",
    "            strand = fields[5]\n",
    "\n",
    "            # Check if the chromosome is in the genome fasta file\n",
    "            if chromosome in genome_records:\n",
    "                # Get the sequence based on the coordinates and strand\n",
    "                seq = genome_records[chromosome].seq[start-1:end]\n",
    "                if strand == '-':\n",
    "                    seq = seq.reverse_complement()\n",
    "\n",
    "                # Check if the sequence is non-empty before creating a SeqRecord\n",
    "                if len(seq) > 0:\n",
    "                    # Create a SeqRecord to store the sequence along with metadata\n",
    "                    record = SeqRecord(seq, id=f\"{chromosome}:{start}:{end}:{strand}\", description=f\"{gene_id}_{feature_type}\")\n",
    "                    sequences.append(record)\n",
    "\n",
    "    # Write sequences to a fasta file if there are sequences\n",
    "    if sequences:\n",
    "        SeqIO.write(sequences, output_fasta, \"fasta\")\n",
    "        print(f\"Sequences written to {output_fasta}\")\n",
    "    else:\n",
    "        print(\"No sequences found. Fasta file not created.\")\n",
    "# Example usage\n",
    "bed_file_path = \"/workdir/zl843/translation-start-site/Arabidopsis_thaliana.TAIR10.57.gff3.intron\"\n",
    "genome_fasta_path = \"/workdir/zl843/translation-start-site/Arabidopsis_thaliana.TAIR10.dna.toplevel.fa\"\n",
    "output_fasta_path = \"/workdir/zl843/translation-start-site/Arabidopsis_thaliana.TAIR10.dna.toplevel.fa.intron\"\n",
    "\n",
    "get_sequence_from_bed(bed_file_path, genome_fasta_path, output_fasta_path)"
   ]
  },
  {
   "cell_type": "markdown",
   "metadata": {},
   "source": [
    "**Get the ATG bed file**"
   ]
  },
  {
   "cell_type": "code",
   "execution_count": 44,
   "metadata": {},
   "outputs": [],
   "source": [
    "def get_genome_start(fasta_name):\n",
    "    parts = fasta_name.split('_')\n",
    "    chromosome, start, end, strand = parts[-1].split(':')\n",
    "    return chromosome, int(start), int(end), strand\n",
    "\n",
    "def find_atg_positions(fasta_file):\n",
    "    atg_positions = []\n",
    "\n",
    "    for record in SeqIO.parse(fasta_file, \"fasta\"):\n",
    "        chromosome, start, end, strand = get_genome_start(record.id)\n",
    "        transcript = record.description.split(' ')[1]\n",
    "        sequence = str(record.seq)\n",
    "        if strand == '+':\n",
    "            for match_start in range(0, len(sequence) - 2):\n",
    "                codon = sequence[match_start:match_start + 3]\n",
    "                if codon == \"ATG\":\n",
    "                    genome_start = start + match_start \n",
    "                    atg_positions.append((chromosome, genome_start, genome_start + 2, transcript, record.id, strand))\n",
    "\n",
    "        else:  # reverse strand\n",
    "            for match_start in range(0, len(sequence) - 2):\n",
    "                codon = sequence[match_start:match_start + 3]\n",
    "                if codon == \"ATG\":\n",
    "                    genome_start = end - match_start\n",
    "                    atg_positions.append((chromosome, genome_start -2 , genome_start, transcript, record.id, strand))\n",
    "\n",
    "        \n",
    "\n",
    "    return atg_positions\n",
    "\n",
    "def write_bed_file(atg_positions, output_file):\n",
    "    with open(output_file, 'w') as bed_file:\n",
    "        for position in atg_positions:\n",
    "            bed_file.write(f\"{position[0]}\\t{position[1]}\\t{position[2]}\\t{position[3]}\\t{position[4]}\\t{position[5]}\\n\")\n",
    "\n",
    "if __name__ == \"__main__\":\n",
    "    fasta_file = \"/workdir/zl843/translation-start-site/Arabidopsis_thaliana.TAIR10.dna.toplevel.fa.intron\"\n",
    "    output_file = \"/workdir/zl843/translation-start-site/ATG_out-of-exon.bed\"\n",
    "\n",
    "    atg_positions = find_atg_positions(fasta_file)\n",
    "    write_bed_file(atg_positions, output_file)\n"
   ]
  }
 ],
 "metadata": {
  "kernelspec": {
   "display_name": "esmfold",
   "language": "python",
   "name": "python3"
  },
  "language_info": {
   "codemirror_mode": {
    "name": "ipython",
    "version": 3
   },
   "file_extension": ".py",
   "mimetype": "text/x-python",
   "name": "python",
   "nbconvert_exporter": "python",
   "pygments_lexer": "ipython3",
   "version": "3.8.16"
  }
 },
 "nbformat": 4,
 "nbformat_minor": 2
}
